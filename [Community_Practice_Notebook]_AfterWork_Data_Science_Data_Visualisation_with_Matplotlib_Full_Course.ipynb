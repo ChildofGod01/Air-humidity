{
  "nbformat": 4,
  "nbformat_minor": 0,
  "metadata": {
    "colab": {
      "name": "[Community Practice Notebook] AfterWork Data Science: Data Visualisation with Matplotlib // Full Course",
      "provenance": [],
      "collapsed_sections": [
        "JTiqAtf7yQng",
        "_lAzHrhvyWlV",
        "e1AQhMlcyi_h",
        "gd9kBtg44Cm6",
        "Cuejc5EW9pR6",
        "LCaFuz_8y_M9",
        "RFlqOfRhftVa",
        "0OjaKGzqTIkH",
        "8zshSqmfZvjZ",
        "FveSr-AcbUyh",
        "iHXou6VKFXRU",
        "6f_NZm1SFgoi",
        "Sw_n_QJEynb-",
        "q27xlxvubiHy",
        "w4MkGTCMgIQ5",
        "q6Et6Jy1qCuN",
        "YRXFVzQCvDVe",
        "fps-itVU4cmy",
        "noLCerP62Twq",
        "3enKLkDPz6Ls",
        "jL7sP8XXblXY",
        "0UWR6q2Y5CAw",
        "-s_oM3MU5ZOL",
        "CSXB8pt9Cjwo",
        "GRItZAtVCvpG",
        "B0YQgJcFC0G4",
        "CUe-FsYVzxaY",
        "TXzf08uZF6Cl",
        "mCqoGWgKIXsx",
        "oTcTYR-CMr0p",
        "h6Mf9l3WMxE_",
        "N5JGzbUXMy7K",
        "pRYUE3vpy_Wf",
        "QCw51It7RY0Y",
        "RRnqeYPRRcCy",
        "L9-V3ikKRe3z",
        "cg2JGVX7VDRY",
        "d4uFlFgDVJAn",
        "s_JyLoQ9VK_U",
        "WlIIcpfGy_f7"
      ],
      "include_colab_link": true
    },
    "kernelspec": {
      "name": "python3",
      "display_name": "Python 3"
    },
    "language_info": {
      "name": "python"
    }
  },
  "cells": [
    {
      "cell_type": "markdown",
      "metadata": {
        "id": "view-in-github",
        "colab_type": "text"
      },
      "source": [
        "<a href=\"https://colab.research.google.com/github/ChildofGod01/Air-humidity/blob/master/%5BCommunity_Practice_Notebook%5D_AfterWork_Data_Science_Data_Visualisation_with_Matplotlib_Full_Course.ipynb\" target=\"_parent\"><img src=\"https://colab.research.google.com/assets/colab-badge.svg\" alt=\"Open In Colab\"/></a>"
      ]
    },
    {
      "cell_type": "markdown",
      "metadata": {
        "id": "JTiqAtf7yQng"
      },
      "source": [
        "# AfterWork Data Science: Data Visualisation with Matplotlib"
      ]
    },
    {
      "cell_type": "markdown",
      "metadata": {
        "id": "_lAzHrhvyWlV"
      },
      "source": [
        "## Pre-requisites"
      ]
    },
    {
      "cell_type": "code",
      "metadata": {
        "id": "7x7CWxfrxdaa"
      },
      "source": [
        "# importing matplotlib for plotting\n",
        "# ---\n",
        "#\n",
        "import matplotlib.pyplot as plt\n",
        "\n",
        "# importing numpy for scientific computations\n",
        "# ---\n",
        "# \n",
        "import numpy as np\n",
        "\n",
        "# importing pandas for data manipulation\n",
        "# ---\n",
        "# \n",
        "import pandas as pd"
      ],
      "execution_count": null,
      "outputs": []
    },
    {
      "cell_type": "markdown",
      "metadata": {
        "id": "kqq852eaQ7zQ"
      },
      "source": [
        "We reference the `pyplot` sub-module since it contains most of matplotlib's core functionalities."
      ]
    },
    {
      "cell_type": "markdown",
      "metadata": {
        "id": "e1AQhMlcyi_h"
      },
      "source": [
        "## 1. Basic Structure"
      ]
    },
    {
      "cell_type": "markdown",
      "metadata": {
        "id": "gd9kBtg44Cm6"
      },
      "source": [
        "### Example: Basic Plot (Method 1)"
      ]
    },
    {
      "cell_type": "code",
      "metadata": {
        "colab": {
          "base_uri": "https://localhost:8080/",
          "height": 347
        },
        "id": "SdjoeQDCyl3V",
        "outputId": "0df60ba8-c243-42b2-9219-826415d91b3d"
      },
      "source": [
        "# Method 1\n",
        "\n",
        "# Define the datasets\n",
        "age = [25, 26, 27, 28, 29, 30, 31, 32, 33, 34, 35]\n",
        "da_salary = [38496, 42000, 46752, 49320, 53200, 56000, 62316, 64928, 67317, 68748, 73752]\n",
        "\n",
        "# Set plot size\n",
        "plt.figure(figsize=(6, 5))\n",
        "\n",
        "# Render a plot\n",
        "plt.plot(age, da_salary, color=\"blue\", label=\"DA Salary\")\n",
        "\n",
        "# Add a title \n",
        "plt.title('Age vs Salary', fontdict= {'fontname': 'Serif', 'fontsize': 10})\n",
        "\n",
        "# Add an x-axis label\n",
        "plt.xlabel('Employee Age')\n",
        "\n",
        "# Add a y-axis label\n",
        "plt.ylabel('Salary')\n",
        "\n",
        "# Add a legend\n",
        "plt.legend() \n",
        "\n",
        "# Display the plot\n",
        "plt.show()"
      ],
      "execution_count": null,
      "outputs": [
        {
          "output_type": "display_data",
          "data": {
            "image/png": "[encoded data removed]",
            "text/plain": [
              "<Figure size 432x360 with 1 Axes>"
            ]
          },
          "metadata": {
            "tags": [],
            "needs_background": "light"
          }
        }
      ]
    },
    {
      "cell_type": "code",
      "metadata": {
        "colab": {
          "base_uri": "https://localhost:8080/",
          "height": 347
        },
        "id": "jtgZAh9T_SIo",
        "outputId": "85d663d4-2cdf-4814-b335-8942f43df985"
      },
      "source": [
        "# Adding another dataset for comparison\n",
        "# ---\n",
        "#\n",
        "ds_salary = [45372, 48876, 53850, 57287, 63016, 65998, 70003, 70000, 71496, 75370, 83640]\n",
        "\n",
        "# Set plot size\n",
        "plt.figure(figsize=(6, 5))\n",
        "\n",
        "# Render a plot\n",
        "plt.plot(age, da_salary, color=\"blue\", label=\"Data Analyst Salary\")\n",
        "plt.plot(age, ds_salary, color=\"red\", label=\"Data Scientist Salary\")\n",
        "\n",
        "# Add a title \n",
        "plt.title('Employee Salary (USD)', fontdict= {'fontname': 'Serif', 'fontsize': 10})\n",
        "\n",
        "# Add an x-axis label\n",
        "plt.xlabel('Employee Age')\n",
        "\n",
        "# Add a y-axis label\n",
        "plt.ylabel('Salary')\n",
        "\n",
        "# Add a legend\n",
        "plt.legend() \n",
        "\n",
        "# Display the plot\n",
        "plt.show()"
      ],
      "execution_count": null,
      "outputs": [
        {
          "output_type": "display_data",
          "data": {
            "image/png": "[encoded data removed]",
            "text/plain": [
              "<Figure size 432x360 with 1 Axes>"
            ]
          },
          "metadata": {
            "tags": [],
            "needs_background": "light"
          }
        }
      ]
    },
    {
      "cell_type": "markdown",
      "metadata": {
        "id": "OR2o32sW6Caq"
      },
      "source": [
        "**Notes on Rendering**\n",
        "\n",
        "*   Line chart: `plot(X, Y)`\n",
        "*   Pie chart: `pie(Z)`\n",
        "*   Bar plot: `bar(Z)`\n",
        "*   Histogram: `hist(X)` \n",
        "*   Scatter plot: `Scatter(X, Y)`\n",
        "*   Box plot: `boxplot(Z)`\n",
        "\n",
        "\n"
      ]
    },
    {
      "cell_type": "markdown",
      "metadata": {
        "id": "Cuejc5EW9pR6"
      },
      "source": [
        "### Example: Basic Plot (Method 2)"
      ]
    },
    {
      "cell_type": "markdown",
      "metadata": {
        "id": "K5pWPhbnFnhv"
      },
      "source": [
        "The following image describes how we use this method to plot a chart.\n",
        "![matplotlib_fig1.png](data:image/png;base64,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)\n",
        "\n",
        "[Image Source](https://miro.medium.com/max/669/1*zxvxtqmcl9rFVj5yN4pNjA.png)"
      ]
    },
    {
      "cell_type": "code",
      "metadata": {
        "colab": {
          "base_uri": "https://localhost:8080/",
          "height": 266
        },
        "id": "WHTZjG1F9pSJ",
        "outputId": "2009fe12-c408-4382-afd3-46bd39f191fa"
      },
      "source": [
        "# Define the dataset\n",
        "age = [25, 26, 27, 28, 29, 30, 31, 32, 33, 34, 35]\n",
        "da_salary = [38496, 42000, 46752, 49320, 53200, 56000, 62316, 64928, 67317, 68748, 73752]\n",
        "\n",
        "# Get figure and axes objects\n",
        "# ---\n",
        "# fig - managing figure level attributes\n",
        "# ax - managing plot level changes\n",
        "# ---\n",
        "fig, ax = plt.subplots() \n",
        "\n",
        "# Render the plot\n",
        "ax.plot(age, da_salary, color=\"blue\", label=\"DA Salary\")\n",
        "\n",
        "# Display the plot\n",
        "fig.show()"
      ],
      "execution_count": null,
      "outputs": [
        {
          "output_type": "display_data",
          "data": {
            "image/png": "[encoded data removed]",
            "text/plain": [
              "<Figure size 432x288 with 1 Axes>"
            ]
          },
          "metadata": {
            "tags": [],
            "needs_background": "light"
          }
        }
      ]
    },
    {
      "cell_type": "code",
      "metadata": {
        "colab": {
          "base_uri": "https://localhost:8080/",
          "height": 295
        },
        "id": "Ywr7gdWSGWRu",
        "outputId": "6b364d3a-fa9d-44a6-fc2b-be75987e45b1"
      },
      "source": [
        "# Creating a second dataset for comparison\n",
        "ds_salary = [45372, 48876, 53850, 57287, 63016, 65998, 70003, 70000, 71496, 75370, 83640]\n",
        "\n",
        "# Get figure and axes objects \n",
        "fig, ax = plt.subplots() \n",
        "\n",
        "# Render the plots\n",
        "ax.plot(age, da_salary, color=\"blue\", label=\"DA Salary\")\n",
        "ax.plot(age, ds_salary, color=\"red\", label=\"DS Salary\")\n",
        "\n",
        "# Add a title\n",
        "ax.set_title('Employee Salary (USD)')\n",
        "\n",
        "# Add an x-axis label \n",
        "ax.set_xlabel('Employee Age')\n",
        "\n",
        "# Add a y-axis label \n",
        "ax.set_ylabel('Salary')\n",
        "\n",
        "# Add a legend\n",
        "ax.legend()\n",
        "\n",
        "# Add a grid\n",
        "ax.grid()\n",
        "\n",
        "# Display the plot\n",
        "fig.show()"
      ],
      "execution_count": null,
      "outputs": [
        {
          "output_type": "display_data",
          "data": {
            "image/png": "[encoded data removed]",
            "text/plain": [
              "<Figure size 432x288 with 1 Axes>"
            ]
          },
          "metadata": {
            "tags": [],
            "needs_background": "light"
          }
        }
      ]
    },
    {
      "cell_type": "code",
      "metadata": {
        "colab": {
          "base_uri": "https://localhost:8080/",
          "height": 404
        },
        "id": "LmdLt3szE_2J",
        "outputId": "2e98cb22-0e2b-4b11-9b4a-ab1d7543d2b8"
      },
      "source": [
        "# Creating a second dataset for comparison\n",
        "ds_salary = [45372, 48876, 53850, 57287, 63016, 65998, 70003, 70000, 71496, 75370, 83640]\n",
        "\n",
        "# Get figure and axes objects, defining (1 rows, 2 column)\n",
        "fig, (ax1, ax2) = plt.subplots(1, 2, figsize=(12, 6)) \n",
        "\n",
        "# Render the plots\n",
        "ax1.plot(age, da_salary, color=\"blue\", label=\"DA Salary\")\n",
        "ax2.plot(age, ds_salary, color=\"red\", label=\"DS Salary\")\n",
        "\n",
        "# Add a title\n",
        "ax1.set_title('Employee Salary (USD)')\n",
        "ax2.set_title('Employee Salary (USD)')\n",
        "\n",
        "# Add an x-axis label \n",
        "ax1.set_xlabel('Employee Age')\n",
        "ax2.set_xlabel('Employee Age')\n",
        "\n",
        "# Add a y-axis label \n",
        "ax1.set_ylabel('Salary')\n",
        "ax2.set_ylabel('Salary')\n",
        "\n",
        "# Add a legend\n",
        "ax1.legend()\n",
        "ax2.legend()\n",
        "\n",
        "# Add a grid\n",
        "ax1.grid()\n",
        "ax2.grid()\n",
        "\n",
        "# Display the plot\n",
        "fig.show()"
      ],
      "execution_count": null,
      "outputs": [
        {
          "output_type": "display_data",
          "data": {
            "image/png": "[encoded data removed]",
            "text/plain": [
              "<Figure size 864x432 with 2 Axes>"
            ]
          },
          "metadata": {
            "tags": [],
            "needs_background": "light"
          }
        }
      ]
    },
    {
      "cell_type": "markdown",
      "metadata": {
        "id": "LCaFuz_8y_M9"
      },
      "source": [
        "## 2. Pie Chart"
      ]
    },
    {
      "cell_type": "markdown",
      "metadata": {
        "id": "hPLgpHWebTKA"
      },
      "source": [
        "A **pie chart** is a type of visualisation that shows the proportions or percentages between categories by dividing a circle into proportional segments."
      ]
    },
    {
      "cell_type": "markdown",
      "metadata": {
        "id": "RFlqOfRhftVa"
      },
      "source": [
        "### Examples"
      ]
    },
    {
      "cell_type": "markdown",
      "metadata": {
        "id": "0OjaKGzqTIkH"
      },
      "source": [
        "#### Example 1"
      ]
    },
    {
      "cell_type": "code",
      "metadata": {
        "colab": {
          "base_uri": "https://localhost:8080/",
          "height": 319
        },
        "id": "gs7EsPp0y_NB",
        "outputId": "3958fc9f-2a77-4839-89e8-75cbb9373ea8"
      },
      "source": [
        "# Question: Create a pie chart that describes fruits quantity in a basket.\n",
        "# ---\n",
        "# \n",
        "\n",
        "# Prepare \n",
        "quantity = [35, 25, 25, 15]\n",
        "fruits = [\"Bananas\", \"Coconuts\", \"Grapes\", \"Apples\"]\n",
        "colors = ['blue','#66b3ff','#99ff99','#ffcc99']\n",
        "\n",
        "# Render\n",
        "plt.figure(figsize=(8, 5))\n",
        "plt.pie(quantity, labels = fruits, colors=colors, autopct='%.0f%%', explode=(0, 0.1, 0, 0))\n",
        "\n",
        "# Tweak & Label\n",
        "plt.title('Fruits Pie Chart', fontdict= {'fontname': 'Serif', 'fontsize': 12})  \n",
        "\n",
        "# Display\n",
        "plt.show() "
      ],
      "execution_count": null,
      "outputs": [
        {
          "output_type": "display_data",
          "data": {
            "image/png": "[encoded data removed]",
            "text/plain": [
              "<Figure size 576x360 with 1 Axes>"
            ]
          },
          "metadata": {
            "tags": []
          }
        }
      ]
    },
    {
      "cell_type": "markdown",
      "metadata": {
        "id": "8zshSqmfZvjZ"
      },
      "source": [
        "#### Example 2"
      ]
    },
    {
      "cell_type": "code",
      "metadata": {
        "colab": {
          "base_uri": "https://localhost:8080/",
          "height": 319
        },
        "id": "8HubdhvlYq6r",
        "outputId": "9c1528a6-cac3-42e7-f691-19f5bdc0e2c2"
      },
      "source": [
        "# Question: Create a pie chart to describe the distribution of olympic gold medals.\n",
        "# ---\n",
        "# Dataset URL = http://bit.ly/OlympicsDataset\n",
        "# ---\n",
        "# \n",
        "\n",
        "# Prepare \n",
        "df =  pd.read_csv('http://bit.ly/OlympicsDataset')\n",
        "countries = df[\"country\"]\n",
        "gold_medals = df[\"gold_medal\"]\n",
        "explode = (0, 0, 0.1, 0, 0)\n",
        "\n",
        "# Render\n",
        "plt.figure(figsize=(8, 5))\n",
        "plt.pie(gold_medals, labels = countries, explode = explode, startangle = 120, autopct = '%.0f%%')\n",
        "\n",
        "# Tweak & Label\n",
        "plt.title('Olympic Gold Medal Distribution', fontdict= {'fontname': 'Serif', 'fontsize': 12})  \n",
        "\n",
        "# Display\n",
        "plt.show()"
      ],
      "execution_count": null,
      "outputs": [
        {
          "output_type": "display_data",
          "data": {
            "image/png": "[encoded data removed]",
            "text/plain": [
              "<Figure size 576x360 with 1 Axes>"
            ]
          },
          "metadata": {
            "tags": []
          }
        }
      ]
    },
    {
      "cell_type": "markdown",
      "metadata": {
        "id": "FveSr-AcbUyh"
      },
      "source": [
        "### <font color=\"green\">Challenges</font>"
      ]
    },
    {
      "cell_type": "markdown",
      "metadata": {
        "id": "iHXou6VKFXRU"
      },
      "source": [
        "#### Challenge 1"
      ]
    },
    {
      "cell_type": "code",
      "metadata": {
        "id": "IoVIAAI-bTh4"
      },
      "source": [
        "# Question\n",
        "# ---\n",
        "# A farmer has the following animals 15 cattles, 30 goats, 55 chicken, \n",
        "# 3 dogs and 1 cat. Create a pie chart to describe the distribution. \n",
        "# ---\n",
        "# YOUR CODE GOES BELOW \n",
        "# \n",
        "\n",
        "# Prepare dataset\n",
        "animals = [15, 30, 45, 3, 1]\n",
        "labels = ['cattle', 'goats', 'chicken', 'dogs', 'cats']\n",
        "\n",
        "# Render\n",
        "\n",
        "\n",
        "# Tweak and Label \n",
        "\n",
        "\n",
        "# Display\n",
        "\n"
      ],
      "execution_count": null,
      "outputs": []
    },
    {
      "cell_type": "markdown",
      "metadata": {
        "id": "6f_NZm1SFgoi"
      },
      "source": [
        "#### Challenge 2"
      ]
    },
    {
      "cell_type": "code",
      "metadata": {
        "id": "Nrn1gW5Wd0K2"
      },
      "source": [
        "# Question\n",
        "# ---\n",
        "# Visualise the status of tasks in the following dataset using a pie chart.\n",
        "# ---\n",
        "# Dataset URL = http://bit.ly/TasksData\n",
        "# ---\n",
        "# YOUR CODE GOES BELOW\n",
        "\n",
        "# Prepare \n",
        "\n",
        "\n",
        "# Render\n",
        "\n",
        "\n",
        "# Tweak and Label \n",
        "\n",
        "\n",
        "# Display"
      ],
      "execution_count": null,
      "outputs": []
    },
    {
      "cell_type": "markdown",
      "metadata": {
        "id": "Sw_n_QJEynb-"
      },
      "source": [
        "## 3. Bar Chart"
      ]
    },
    {
      "cell_type": "markdown",
      "metadata": {
        "id": "PUfSQFHJZUwf"
      },
      "source": [
        "A **bar chart** is a type of visualisation that presents categorical data with rectangular bars, with heights or lengths proportional to the values that they represent."
      ]
    },
    {
      "cell_type": "markdown",
      "metadata": {
        "id": "q27xlxvubiHy"
      },
      "source": [
        "### Examples"
      ]
    },
    {
      "cell_type": "markdown",
      "metadata": {
        "id": "w4MkGTCMgIQ5"
      },
      "source": [
        "#### Example 1"
      ]
    },
    {
      "cell_type": "code",
      "metadata": {
        "id": "22iMbvrSiw2z"
      },
      "source": [
        "# Question\n",
        "# ---\n",
        "# Create a vertical and horizontal bar chart that describes the distribution of cake sales for a bakery.\n",
        "# ---\n",
        "# \n",
        "\n",
        "# Prepare\n",
        "cakes = ['Marble Cake', 'Apple Cake', 'Grape Cake', 'Cup Cake', 'Chocolate Cake']\n",
        "sales = [9000 , 700, 400, 300, 600]\n",
        "\n",
        "# Render vertical bar chart: NB - height\n",
        "plt.bar(cakes, height = sales, color='pink')\n",
        "\n",
        "# Tweak and Label\n",
        "plt.xticks(rotation = 45)\n",
        "plt.ylabel('Sales')\n",
        "plt.title('Cake Sales (USD)')\n",
        "\n",
        "# Display\n",
        "plt.show()"
      ],
      "execution_count": null,
      "outputs": []
    },
    {
      "cell_type": "code",
      "metadata": {
        "colab": {
          "base_uri": "https://localhost:8080/",
          "height": 310
        },
        "id": "k0FHbpWMtUsr",
        "outputId": "a02d8657-dd97-44d5-8e64-ec4da97728e2"
      },
      "source": [
        "# Render horizontal bar chart: : NB - width\n",
        "plt.barh(cakes, width = sales, color='pink')\n",
        "\n",
        "# Tweak and Label\n",
        "plt.xticks(rotation = 45)\n",
        "plt.xlabel('Sales')\n",
        "plt.ylabel('Cakes')\n",
        "plt.title('Cake Sales (USD)')\n",
        "\n",
        "# Display\n",
        "plt.show()"
      ],
      "execution_count": null,
      "outputs": [
        {
          "output_type": "display_data",
          "data": {
            "image/png": "[encoded data removed]",
            "text/plain": [
              "<Figure size 432x288 with 1 Axes>"
            ]
          },
          "metadata": {
            "tags": [],
            "needs_background": "light"
          }
        }
      ]
    },
    {
      "cell_type": "markdown",
      "metadata": {
        "id": "q6Et6Jy1qCuN"
      },
      "source": [
        "#### Example 2"
      ]
    },
    {
      "cell_type": "code",
      "metadata": {
        "colab": {
          "base_uri": "https://localhost:8080/",
          "height": 204
        },
        "id": "1gaeVVsIy5H3",
        "outputId": "528b28f7-c049-4a96-ba3e-7051bc2de933"
      },
      "source": [
        "# Question\n",
        "# ---\n",
        "# Dataset URL = https://bit.ly/TipsDataset\n",
        "# ---\n",
        "#\n",
        "\n",
        "# Prepare \n",
        "df = pd.read_csv('https://bit.ly/TipsDataset')\n",
        "df.head()"
      ],
      "execution_count": null,
      "outputs": [
        {
          "output_type": "execute_result",
          "data": {
            "text/html": [
              "<div>\n",
              "<style scoped>\n",
              "    .dataframe tbody tr th:only-of-type {\n",
              "        vertical-align: middle;\n",
              "    }\n",
              "\n",
              "    .dataframe tbody tr th {\n",
              "        vertical-align: top;\n",
              "    }\n",
              "\n",
              "    .dataframe thead th {\n",
              "        text-align: right;\n",
              "    }\n",
              "</style>\n",
              "<table border=\"1\" class=\"dataframe\">\n",
              "  <thead>\n",
              "    <tr style=\"text-align: right;\">\n",
              "      <th></th>\n",
              "      <th>total_bill</th>\n",
              "      <th>tip</th>\n",
              "      <th>sex</th>\n",
              "      <th>smoker</th>\n",
              "      <th>day</th>\n",
              "      <th>time</th>\n",
              "      <th>size</th>\n",
              "    </tr>\n",
              "  </thead>\n",
              "  <tbody>\n",
              "    <tr>\n",
              "      <th>0</th>\n",
              "      <td>16.99</td>\n",
              "      <td>1.01</td>\n",
              "      <td>Female</td>\n",
              "      <td>No</td>\n",
              "      <td>Sun</td>\n",
              "      <td>Dinner</td>\n",
              "      <td>2</td>\n",
              "    </tr>\n",
              "    <tr>\n",
              "      <th>1</th>\n",
              "      <td>10.34</td>\n",
              "      <td>1.66</td>\n",
              "      <td>Male</td>\n",
              "      <td>No</td>\n",
              "      <td>Sun</td>\n",
              "      <td>Dinner</td>\n",
              "      <td>3</td>\n",
              "    </tr>\n",
              "    <tr>\n",
              "      <th>2</th>\n",
              "      <td>21.01</td>\n",
              "      <td>3.50</td>\n",
              "      <td>Male</td>\n",
              "      <td>No</td>\n",
              "      <td>Sun</td>\n",
              "      <td>Dinner</td>\n",
              "      <td>3</td>\n",
              "    </tr>\n",
              "    <tr>\n",
              "      <th>3</th>\n",
              "      <td>23.68</td>\n",
              "      <td>3.31</td>\n",
              "      <td>Male</td>\n",
              "      <td>No</td>\n",
              "      <td>Sun</td>\n",
              "      <td>Dinner</td>\n",
              "      <td>2</td>\n",
              "    </tr>\n",
              "    <tr>\n",
              "      <th>4</th>\n",
              "      <td>24.59</td>\n",
              "      <td>3.61</td>\n",
              "      <td>Female</td>\n",
              "      <td>No</td>\n",
              "      <td>Sun</td>\n",
              "      <td>Dinner</td>\n",
              "      <td>4</td>\n",
              "    </tr>\n",
              "  </tbody>\n",
              "</table>\n",
              "</div>"
            ],
            "text/plain": [
              "   total_bill   tip     sex smoker  day    time  size\n",
              "0       16.99  1.01  Female     No  Sun  Dinner     2\n",
              "1       10.34  1.66    Male     No  Sun  Dinner     3\n",
              "2       21.01  3.50    Male     No  Sun  Dinner     3\n",
              "3       23.68  3.31    Male     No  Sun  Dinner     2\n",
              "4       24.59  3.61  Female     No  Sun  Dinner     4"
            ]
          },
          "metadata": {
            "tags": []
          },
          "execution_count": 78
        }
      ]
    },
    {
      "cell_type": "code",
      "metadata": {
        "colab": {
          "base_uri": "https://localhost:8080/",
          "height": 173
        },
        "id": "V4yiHeUsgusP",
        "outputId": "17b3f712-10ce-46ef-9ac2-858871455494"
      },
      "source": [
        "# Prepare: create a summary table\n",
        "summary_total_bill = df.groupby(['day'], as_index=False).agg({'total_bill': np.sum})\n",
        "summary_total_bill"
      ],
      "execution_count": null,
      "outputs": [
        {
          "output_type": "execute_result",
          "data": {
            "text/html": [
              "<div>\n",
              "<style scoped>\n",
              "    .dataframe tbody tr th:only-of-type {\n",
              "        vertical-align: middle;\n",
              "    }\n",
              "\n",
              "    .dataframe tbody tr th {\n",
              "        vertical-align: top;\n",
              "    }\n",
              "\n",
              "    .dataframe thead th {\n",
              "        text-align: right;\n",
              "    }\n",
              "</style>\n",
              "<table border=\"1\" class=\"dataframe\">\n",
              "  <thead>\n",
              "    <tr style=\"text-align: right;\">\n",
              "      <th></th>\n",
              "      <th>day</th>\n",
              "      <th>total_bill</th>\n",
              "    </tr>\n",
              "  </thead>\n",
              "  <tbody>\n",
              "    <tr>\n",
              "      <th>0</th>\n",
              "      <td>Fri</td>\n",
              "      <td>325.88</td>\n",
              "    </tr>\n",
              "    <tr>\n",
              "      <th>1</th>\n",
              "      <td>Sat</td>\n",
              "      <td>1778.40</td>\n",
              "    </tr>\n",
              "    <tr>\n",
              "      <th>2</th>\n",
              "      <td>Sun</td>\n",
              "      <td>1627.16</td>\n",
              "    </tr>\n",
              "    <tr>\n",
              "      <th>3</th>\n",
              "      <td>Thur</td>\n",
              "      <td>1096.33</td>\n",
              "    </tr>\n",
              "  </tbody>\n",
              "</table>\n",
              "</div>"
            ],
            "text/plain": [
              "    day  total_bill\n",
              "0   Fri      325.88\n",
              "1   Sat     1778.40\n",
              "2   Sun     1627.16\n",
              "3  Thur     1096.33"
            ]
          },
          "metadata": {
            "tags": []
          },
          "execution_count": 122
        }
      ]
    },
    {
      "cell_type": "code",
      "metadata": {
        "colab": {
          "base_uri": "https://localhost:8080/",
          "height": 281
        },
        "id": "n5t9X4AMoT3s",
        "outputId": "e8c6fd05-3518-4c96-e42f-3256363c0de1"
      },
      "source": [
        "# Prepare: store each dataset in a variable\n",
        "days = summary_total_bill['day']\n",
        "total_bill = summary_total_bill['total_bill']\n",
        "\n",
        "# Render \n",
        "plt.bar(days, height = total_bill, color='lightblue')\n",
        "\n",
        "# Tweak and Label\n",
        "plt.ylabel('Total Bill')\n",
        "plt.title('Bill for the Days of Week')\n",
        "\n",
        "# Display\n",
        "plt.show()"
      ],
      "execution_count": null,
      "outputs": [
        {
          "output_type": "display_data",
          "data": {
            "image/png": "[encoded data removed]",
            "text/plain": [
              "<Figure size 432x288 with 1 Axes>"
            ]
          },
          "metadata": {
            "tags": [],
            "needs_background": "light"
          }
        }
      ]
    },
    {
      "cell_type": "markdown",
      "metadata": {
        "id": "YRXFVzQCvDVe"
      },
      "source": [
        "### <font color=\"green\">Challenges</font>"
      ]
    },
    {
      "cell_type": "markdown",
      "metadata": {
        "id": "fps-itVU4cmy"
      },
      "source": [
        "#### Challenge 1"
      ]
    },
    {
      "cell_type": "code",
      "metadata": {
        "id": "2juGgFXbvAsk"
      },
      "source": [
        "# Challenge 1\n",
        "# ---\n",
        "# Question: Create a horizontal barchart describing the distribution of competitors\n",
        "# across all continents at the IAAF Athletics Championships.\n",
        "# ---\n",
        "# \n",
        "\n",
        "# Prepare \n",
        "continents = ['Africa', 'Europe', 'Asia', 'The Americas', 'Oceania']\n",
        "competitors = [56 , 34, 202, 132, 145]\n",
        "\n",
        "# Render \n",
        "\n",
        "\n",
        "# Tweak & Label\n",
        "\n",
        "\n",
        "# Display\n"
      ],
      "execution_count": null,
      "outputs": []
    },
    {
      "cell_type": "markdown",
      "metadata": {
        "id": "noLCerP62Twq"
      },
      "source": [
        "#### Challenge 2"
      ]
    },
    {
      "cell_type": "code",
      "metadata": {
        "colab": {
          "base_uri": "https://localhost:8080/",
          "height": 204
        },
        "id": "OmWNAhxCz0lv",
        "outputId": "69064bf7-e5e7-4ac8-ff37-86be3246249c"
      },
      "source": [
        "# Question \n",
        "# ---\n",
        "# Create a vertical bar chart that describes the popuplation distribution of all continents.\n",
        "# ---\n",
        "# Dataset URL (CSV) = http://bit.ly/CountriesDS\n",
        "# ---\n",
        "# YOUR CODE GOES BELOW\n",
        "# \n",
        "\n",
        "# Prepare\n",
        "pop_df = pd.read_csv('http://bit.ly/CountriesDS')\n",
        "pop_df.head()"
      ],
      "execution_count": null,
      "outputs": [
        {
          "output_type": "execute_result",
          "data": {
            "text/html": [
              "<div>\n",
              "<style scoped>\n",
              "    .dataframe tbody tr th:only-of-type {\n",
              "        vertical-align: middle;\n",
              "    }\n",
              "\n",
              "    .dataframe tbody tr th {\n",
              "        vertical-align: top;\n",
              "    }\n",
              "\n",
              "    .dataframe thead th {\n",
              "        text-align: right;\n",
              "    }\n",
              "</style>\n",
              "<table border=\"1\" class=\"dataframe\">\n",
              "  <thead>\n",
              "    <tr style=\"text-align: right;\">\n",
              "      <th></th>\n",
              "      <th>country</th>\n",
              "      <th>year</th>\n",
              "      <th>LifeExp</th>\n",
              "      <th>income</th>\n",
              "      <th>population</th>\n",
              "      <th>continent</th>\n",
              "    </tr>\n",
              "  </thead>\n",
              "  <tbody>\n",
              "    <tr>\n",
              "      <th>0</th>\n",
              "      <td>Afghanistan</td>\n",
              "      <td>2020</td>\n",
              "      <td>64.4</td>\n",
              "      <td>1800</td>\n",
              "      <td>38900000</td>\n",
              "      <td>Asia</td>\n",
              "    </tr>\n",
              "    <tr>\n",
              "      <th>1</th>\n",
              "      <td>Albania</td>\n",
              "      <td>2020</td>\n",
              "      <td>78.6</td>\n",
              "      <td>13200</td>\n",
              "      <td>2880000</td>\n",
              "      <td>Europe</td>\n",
              "    </tr>\n",
              "    <tr>\n",
              "      <th>2</th>\n",
              "      <td>Algeria</td>\n",
              "      <td>2020</td>\n",
              "      <td>78.3</td>\n",
              "      <td>14000</td>\n",
              "      <td>43900000</td>\n",
              "      <td>Africa</td>\n",
              "    </tr>\n",
              "    <tr>\n",
              "      <th>3</th>\n",
              "      <td>Andorra</td>\n",
              "      <td>2020</td>\n",
              "      <td>NaN</td>\n",
              "      <td>55000</td>\n",
              "      <td>77300</td>\n",
              "      <td>Europe</td>\n",
              "    </tr>\n",
              "    <tr>\n",
              "      <th>4</th>\n",
              "      <td>Angola</td>\n",
              "      <td>2020</td>\n",
              "      <td>65.4</td>\n",
              "      <td>5440</td>\n",
              "      <td>32900000</td>\n",
              "      <td>Africa</td>\n",
              "    </tr>\n",
              "  </tbody>\n",
              "</table>\n",
              "</div>"
            ],
            "text/plain": [
              "       country  year  LifeExp  income  population continent\n",
              "0  Afghanistan  2020     64.4    1800    38900000      Asia\n",
              "1      Albania  2020     78.6   13200     2880000    Europe\n",
              "2      Algeria  2020     78.3   14000    43900000    Africa\n",
              "3      Andorra  2020      NaN   55000       77300    Europe\n",
              "4       Angola  2020     65.4    5440    32900000    Africa"
            ]
          },
          "metadata": {
            "tags": []
          },
          "execution_count": 130
        }
      ]
    },
    {
      "cell_type": "code",
      "metadata": {
        "colab": {
          "base_uri": "https://localhost:8080/",
          "height": 235
        },
        "id": "iMKCkoNu2ydB",
        "outputId": "03e25e8f-e061-4f31-e5f1-a2f1975d1ae2"
      },
      "source": [
        "# Prepare: create a summary table\n",
        "summary_pop = pop_df.groupby(['continent'], as_index=False).agg({'population': np.sum})\n",
        "summary_pop"
      ],
      "execution_count": null,
      "outputs": [
        {
          "output_type": "execute_result",
          "data": {
            "text/html": [
              "<div>\n",
              "<style scoped>\n",
              "    .dataframe tbody tr th:only-of-type {\n",
              "        vertical-align: middle;\n",
              "    }\n",
              "\n",
              "    .dataframe tbody tr th {\n",
              "        vertical-align: top;\n",
              "    }\n",
              "\n",
              "    .dataframe thead th {\n",
              "        text-align: right;\n",
              "    }\n",
              "</style>\n",
              "<table border=\"1\" class=\"dataframe\">\n",
              "  <thead>\n",
              "    <tr style=\"text-align: right;\">\n",
              "      <th></th>\n",
              "      <th>continent</th>\n",
              "      <th>population</th>\n",
              "    </tr>\n",
              "  </thead>\n",
              "  <tbody>\n",
              "    <tr>\n",
              "      <th>0</th>\n",
              "      <td>Africa</td>\n",
              "      <td>1240355300</td>\n",
              "    </tr>\n",
              "    <tr>\n",
              "      <th>1</th>\n",
              "      <td>Asia</td>\n",
              "      <td>4250220000</td>\n",
              "    </tr>\n",
              "    <tr>\n",
              "      <th>2</th>\n",
              "      <td>Europe</td>\n",
              "      <td>827274300</td>\n",
              "    </tr>\n",
              "    <tr>\n",
              "      <th>3</th>\n",
              "      <td>Middle East</td>\n",
              "      <td>255840000</td>\n",
              "    </tr>\n",
              "    <tr>\n",
              "      <th>4</th>\n",
              "      <td>Oceania</td>\n",
              "      <td>41757200</td>\n",
              "    </tr>\n",
              "    <tr>\n",
              "      <th>5</th>\n",
              "      <td>The Americas</td>\n",
              "      <td>1018006900</td>\n",
              "    </tr>\n",
              "  </tbody>\n",
              "</table>\n",
              "</div>"
            ],
            "text/plain": [
              "      continent  population\n",
              "0        Africa  1240355300\n",
              "1          Asia  4250220000\n",
              "2        Europe   827274300\n",
              "3   Middle East   255840000\n",
              "4       Oceania    41757200\n",
              "5  The Americas  1018006900"
            ]
          },
          "metadata": {
            "tags": []
          },
          "execution_count": 131
        }
      ]
    },
    {
      "cell_type": "code",
      "metadata": {
        "id": "1E7BzMU-3RtM"
      },
      "source": [
        "# Prepare: Store each dataset in a variable\n",
        "\n",
        "\n",
        "\n",
        "# Render \n",
        "\n",
        "\n",
        "\n",
        "# Tweak & Label\n",
        "\n",
        "\n",
        "# Display\n"
      ],
      "execution_count": null,
      "outputs": []
    },
    {
      "cell_type": "markdown",
      "metadata": {
        "id": "3enKLkDPz6Ls"
      },
      "source": [
        "## 4. Histogram"
      ]
    },
    {
      "cell_type": "markdown",
      "metadata": {
        "id": "ZQPGkj3Ga0wQ"
      },
      "source": [
        "A **histogram** is type of visualisation visualises the distribution of data over a\n",
        "continuous interval or certain time period."
      ]
    },
    {
      "cell_type": "markdown",
      "metadata": {
        "id": "jL7sP8XXblXY"
      },
      "source": [
        "### Examples"
      ]
    },
    {
      "cell_type": "markdown",
      "metadata": {
        "id": "0UWR6q2Y5CAw"
      },
      "source": [
        "#### Example 1"
      ]
    },
    {
      "cell_type": "code",
      "metadata": {
        "colab": {
          "base_uri": "https://localhost:8080/",
          "height": 295
        },
        "id": "5oaO6OZ_z6L9",
        "outputId": "d355d07d-559a-4549-e01b-5ae0bfdaa860"
      },
      "source": [
        "# Question\n",
        "# ---\n",
        "# Create a graph that shows the frequency distribution of the following dataset.\n",
        "# ---\n",
        "# YOUR CODE GOES BELOW\n",
        "# \n",
        "\n",
        "# Prepare\n",
        "height = [162.29867872, 172.83638413, 168.67303667, 164.57361342, 180.81120541, 170.57782187,\n",
        "     167.53075749, 176.15356275, 176.95378312, 158.4125473, 187.8842668, 159.03730075,\n",
        "     166.69284332, 160.73882029, 152.22378865]\n",
        "bins = [150, 155, 160, 165, 170, 175, 180, 185, 190]\n",
        "\n",
        "# Render\n",
        "plt.hist(height, bins = bins)\n",
        "\n",
        "# Tweak & Label \n",
        "plt.title('Distribution Plot of Variable X')\n",
        "plt.xlabel('Height')\n",
        "plt.ylabel('Frequency')\n",
        "\n",
        "# Display\n",
        "plt.show() "
      ],
      "execution_count": null,
      "outputs": [
        {
          "output_type": "display_data",
          "data": {
            "image/png": "[encoded data removed]",
            "text/plain": [
              "<Figure size 432x288 with 1 Axes>"
            ]
          },
          "metadata": {
            "tags": [],
            "needs_background": "light"
          }
        }
      ]
    },
    {
      "cell_type": "markdown",
      "metadata": {
        "id": "-s_oM3MU5ZOL"
      },
      "source": [
        "#### Example 2"
      ]
    },
    {
      "cell_type": "code",
      "metadata": {
        "colab": {
          "base_uri": "https://localhost:8080/",
          "height": 372
        },
        "id": "uPjV1HtG5bo4",
        "outputId": "26f1764b-c7bb-4b40-9525-1a8eafe6dcf7"
      },
      "source": [
        "# Question\n",
        "# ---\n",
        "# Create a histogram to display the frequency distribution of the overall variable in the FIFA dataset.\n",
        "# ---\n",
        "# Dataset URL = http://bit.ly/FifaDS\n",
        "# ---\n",
        "# \n",
        "# YOUR CODE GOES BELOW\n",
        "# \n",
        "\n",
        "# Prepare\n",
        "fifa_df = pd.read_csv('http://bit.ly/FifaDS')\n",
        "fifa_df.head()"
      ],
      "execution_count": null,
      "outputs": [
        {
          "output_type": "execute_result",
          "data": {
            "text/html": [
              "<div>\n",
              "<style scoped>\n",
              "    .dataframe tbody tr th:only-of-type {\n",
              "        vertical-align: middle;\n",
              "    }\n",
              "\n",
              "    .dataframe tbody tr th {\n",
              "        vertical-align: top;\n",
              "    }\n",
              "\n",
              "    .dataframe thead th {\n",
              "        text-align: right;\n",
              "    }\n",
              "</style>\n",
              "<table border=\"1\" class=\"dataframe\">\n",
              "  <thead>\n",
              "    <tr style=\"text-align: right;\">\n",
              "      <th></th>\n",
              "      <th>Unnamed: 0</th>\n",
              "      <th>ID</th>\n",
              "      <th>Name</th>\n",
              "      <th>Age</th>\n",
              "      <th>Photo</th>\n",
              "      <th>Nationality</th>\n",
              "      <th>Flag</th>\n",
              "      <th>Overall</th>\n",
              "      <th>Potential</th>\n",
              "      <th>Club</th>\n",
              "      <th>Club Logo</th>\n",
              "      <th>Value</th>\n",
              "      <th>Wage</th>\n",
              "      <th>Special</th>\n",
              "      <th>Preferred Foot</th>\n",
              "      <th>International Reputation</th>\n",
              "      <th>Weak Foot</th>\n",
              "      <th>Skill Moves</th>\n",
              "      <th>Work Rate</th>\n",
              "      <th>Body Type</th>\n",
              "      <th>Real Face</th>\n",
              "      <th>Position</th>\n",
              "      <th>Jersey Number</th>\n",
              "      <th>Joined</th>\n",
              "      <th>Loaned From</th>\n",
              "      <th>Contract Valid Until</th>\n",
              "      <th>Height</th>\n",
              "      <th>Weight</th>\n",
              "      <th>LS</th>\n",
              "      <th>ST</th>\n",
              "      <th>RS</th>\n",
              "      <th>LW</th>\n",
              "      <th>LF</th>\n",
              "      <th>CF</th>\n",
              "      <th>RF</th>\n",
              "      <th>RW</th>\n",
              "      <th>LAM</th>\n",
              "      <th>CAM</th>\n",
              "      <th>RAM</th>\n",
              "      <th>LM</th>\n",
              "      <th>...</th>\n",
              "      <th>LB</th>\n",
              "      <th>LCB</th>\n",
              "      <th>CB</th>\n",
              "      <th>RCB</th>\n",
              "      <th>RB</th>\n",
              "      <th>Crossing</th>\n",
              "      <th>Finishing</th>\n",
              "      <th>HeadingAccuracy</th>\n",
              "      <th>ShortPassing</th>\n",
              "      <th>Volleys</th>\n",
              "      <th>Dribbling</th>\n",
              "      <th>Curve</th>\n",
              "      <th>FKAccuracy</th>\n",
              "      <th>LongPassing</th>\n",
              "      <th>BallControl</th>\n",
              "      <th>Acceleration</th>\n",
              "      <th>SprintSpeed</th>\n",
              "      <th>Agility</th>\n",
              "      <th>Reactions</th>\n",
              "      <th>Balance</th>\n",
              "      <th>ShotPower</th>\n",
              "      <th>Jumping</th>\n",
              "      <th>Stamina</th>\n",
              "      <th>Strength</th>\n",
              "      <th>LongShots</th>\n",
              "      <th>Aggression</th>\n",
              "      <th>Interceptions</th>\n",
              "      <th>Positioning</th>\n",
              "      <th>Vision</th>\n",
              "      <th>Penalties</th>\n",
              "      <th>Composure</th>\n",
              "      <th>Marking</th>\n",
              "      <th>StandingTackle</th>\n",
              "      <th>SlidingTackle</th>\n",
              "      <th>GKDiving</th>\n",
              "      <th>GKHandling</th>\n",
              "      <th>GKKicking</th>\n",
              "      <th>GKPositioning</th>\n",
              "      <th>GKReflexes</th>\n",
              "      <th>Release Clause</th>\n",
              "    </tr>\n",
              "  </thead>\n",
              "  <tbody>\n",
              "    <tr>\n",
              "      <th>0</th>\n",
              "      <td>0</td>\n",
              "      <td>158023</td>\n",
              "      <td>L. Messi</td>\n",
              "      <td>31</td>\n",
              "      <td>https://cdn.sofifa.org/players/4/19/158023.png</td>\n",
              "      <td>Argentina</td>\n",
              "      <td>https://cdn.sofifa.org/flags/52.png</td>\n",
              "      <td>94</td>\n",
              "      <td>94</td>\n",
              "      <td>FC Barcelona</td>\n",
              "      <td>https://cdn.sofifa.org/teams/2/light/241.png</td>\n",
              "      <td>€110.5M</td>\n",
              "      <td>€565K</td>\n",
              "      <td>2202</td>\n",
              "      <td>Left</td>\n",
              "      <td>5.0</td>\n",
              "      <td>4.0</td>\n",
              "      <td>4.0</td>\n",
              "      <td>Medium/ Medium</td>\n",
              "      <td>Messi</td>\n",
              "      <td>Yes</td>\n",
              "      <td>RF</td>\n",
              "      <td>10.0</td>\n",
              "      <td>Jul 1, 2004</td>\n",
              "      <td>NaN</td>\n",
              "      <td>2021</td>\n",
              "      <td>5'7</td>\n",
              "      <td>159lbs</td>\n",
              "      <td>88+2</td>\n",
              "      <td>88+2</td>\n",
              "      <td>88+2</td>\n",
              "      <td>92+2</td>\n",
              "      <td>93+2</td>\n",
              "      <td>93+2</td>\n",
              "      <td>93+2</td>\n",
              "      <td>92+2</td>\n",
              "      <td>93+2</td>\n",
              "      <td>93+2</td>\n",
              "      <td>93+2</td>\n",
              "      <td>91+2</td>\n",
              "      <td>...</td>\n",
              "      <td>59+2</td>\n",
              "      <td>47+2</td>\n",
              "      <td>47+2</td>\n",
              "      <td>47+2</td>\n",
              "      <td>59+2</td>\n",
              "      <td>84.0</td>\n",
              "      <td>95.0</td>\n",
              "      <td>70.0</td>\n",
              "      <td>90.0</td>\n",
              "      <td>86.0</td>\n",
              "      <td>97.0</td>\n",
              "      <td>93.0</td>\n",
              "      <td>94.0</td>\n",
              "      <td>87.0</td>\n",
              "      <td>96.0</td>\n",
              "      <td>91.0</td>\n",
              "      <td>86.0</td>\n",
              "      <td>91.0</td>\n",
              "      <td>95.0</td>\n",
              "      <td>95.0</td>\n",
              "      <td>85.0</td>\n",
              "      <td>68.0</td>\n",
              "      <td>72.0</td>\n",
              "      <td>59.0</td>\n",
              "      <td>94.0</td>\n",
              "      <td>48.0</td>\n",
              "      <td>22.0</td>\n",
              "      <td>94.0</td>\n",
              "      <td>94.0</td>\n",
              "      <td>75.0</td>\n",
              "      <td>96.0</td>\n",
              "      <td>33.0</td>\n",
              "      <td>28.0</td>\n",
              "      <td>26.0</td>\n",
              "      <td>6.0</td>\n",
              "      <td>11.0</td>\n",
              "      <td>15.0</td>\n",
              "      <td>14.0</td>\n",
              "      <td>8.0</td>\n",
              "      <td>€226.5M</td>\n",
              "    </tr>\n",
              "    <tr>\n",
              "      <th>1</th>\n",
              "      <td>1</td>\n",
              "      <td>20801</td>\n",
              "      <td>Cristiano Ronaldo</td>\n",
              "      <td>33</td>\n",
              "      <td>https://cdn.sofifa.org/players/4/19/20801.png</td>\n",
              "      <td>Portugal</td>\n",
              "      <td>https://cdn.sofifa.org/flags/38.png</td>\n",
              "      <td>94</td>\n",
              "      <td>94</td>\n",
              "      <td>Juventus</td>\n",
              "      <td>https://cdn.sofifa.org/teams/2/light/45.png</td>\n",
              "      <td>€77M</td>\n",
              "      <td>€405K</td>\n",
              "      <td>2228</td>\n",
              "      <td>Right</td>\n",
              "      <td>5.0</td>\n",
              "      <td>4.0</td>\n",
              "      <td>5.0</td>\n",
              "      <td>High/ Low</td>\n",
              "      <td>C. Ronaldo</td>\n",
              "      <td>Yes</td>\n",
              "      <td>ST</td>\n",
              "      <td>7.0</td>\n",
              "      <td>Jul 10, 2018</td>\n",
              "      <td>NaN</td>\n",
              "      <td>2022</td>\n",
              "      <td>6'2</td>\n",
              "      <td>183lbs</td>\n",
              "      <td>91+3</td>\n",
              "      <td>91+3</td>\n",
              "      <td>91+3</td>\n",
              "      <td>89+3</td>\n",
              "      <td>90+3</td>\n",
              "      <td>90+3</td>\n",
              "      <td>90+3</td>\n",
              "      <td>89+3</td>\n",
              "      <td>88+3</td>\n",
              "      <td>88+3</td>\n",
              "      <td>88+3</td>\n",
              "      <td>88+3</td>\n",
              "      <td>...</td>\n",
              "      <td>61+3</td>\n",
              "      <td>53+3</td>\n",
              "      <td>53+3</td>\n",
              "      <td>53+3</td>\n",
              "      <td>61+3</td>\n",
              "      <td>84.0</td>\n",
              "      <td>94.0</td>\n",
              "      <td>89.0</td>\n",
              "      <td>81.0</td>\n",
              "      <td>87.0</td>\n",
              "      <td>88.0</td>\n",
              "      <td>81.0</td>\n",
              "      <td>76.0</td>\n",
              "      <td>77.0</td>\n",
              "      <td>94.0</td>\n",
              "      <td>89.0</td>\n",
              "      <td>91.0</td>\n",
              "      <td>87.0</td>\n",
              "      <td>96.0</td>\n",
              "      <td>70.0</td>\n",
              "      <td>95.0</td>\n",
              "      <td>95.0</td>\n",
              "      <td>88.0</td>\n",
              "      <td>79.0</td>\n",
              "      <td>93.0</td>\n",
              "      <td>63.0</td>\n",
              "      <td>29.0</td>\n",
              "      <td>95.0</td>\n",
              "      <td>82.0</td>\n",
              "      <td>85.0</td>\n",
              "      <td>95.0</td>\n",
              "      <td>28.0</td>\n",
              "      <td>31.0</td>\n",
              "      <td>23.0</td>\n",
              "      <td>7.0</td>\n",
              "      <td>11.0</td>\n",
              "      <td>15.0</td>\n",
              "      <td>14.0</td>\n",
              "      <td>11.0</td>\n",
              "      <td>€127.1M</td>\n",
              "    </tr>\n",
              "    <tr>\n",
              "      <th>2</th>\n",
              "      <td>2</td>\n",
              "      <td>190871</td>\n",
              "      <td>Neymar Jr</td>\n",
              "      <td>26</td>\n",
              "      <td>https://cdn.sofifa.org/players/4/19/190871.png</td>\n",
              "      <td>Brazil</td>\n",
              "      <td>https://cdn.sofifa.org/flags/54.png</td>\n",
              "      <td>92</td>\n",
              "      <td>93</td>\n",
              "      <td>Paris Saint-Germain</td>\n",
              "      <td>https://cdn.sofifa.org/teams/2/light/73.png</td>\n",
              "      <td>€118.5M</td>\n",
              "      <td>€290K</td>\n",
              "      <td>2143</td>\n",
              "      <td>Right</td>\n",
              "      <td>5.0</td>\n",
              "      <td>5.0</td>\n",
              "      <td>5.0</td>\n",
              "      <td>High/ Medium</td>\n",
              "      <td>Neymar</td>\n",
              "      <td>Yes</td>\n",
              "      <td>LW</td>\n",
              "      <td>10.0</td>\n",
              "      <td>Aug 3, 2017</td>\n",
              "      <td>NaN</td>\n",
              "      <td>2022</td>\n",
              "      <td>5'9</td>\n",
              "      <td>150lbs</td>\n",
              "      <td>84+3</td>\n",
              "      <td>84+3</td>\n",
              "      <td>84+3</td>\n",
              "      <td>89+3</td>\n",
              "      <td>89+3</td>\n",
              "      <td>89+3</td>\n",
              "      <td>89+3</td>\n",
              "      <td>89+3</td>\n",
              "      <td>89+3</td>\n",
              "      <td>89+3</td>\n",
              "      <td>89+3</td>\n",
              "      <td>88+3</td>\n",
              "      <td>...</td>\n",
              "      <td>60+3</td>\n",
              "      <td>47+3</td>\n",
              "      <td>47+3</td>\n",
              "      <td>47+3</td>\n",
              "      <td>60+3</td>\n",
              "      <td>79.0</td>\n",
              "      <td>87.0</td>\n",
              "      <td>62.0</td>\n",
              "      <td>84.0</td>\n",
              "      <td>84.0</td>\n",
              "      <td>96.0</td>\n",
              "      <td>88.0</td>\n",
              "      <td>87.0</td>\n",
              "      <td>78.0</td>\n",
              "      <td>95.0</td>\n",
              "      <td>94.0</td>\n",
              "      <td>90.0</td>\n",
              "      <td>96.0</td>\n",
              "      <td>94.0</td>\n",
              "      <td>84.0</td>\n",
              "      <td>80.0</td>\n",
              "      <td>61.0</td>\n",
              "      <td>81.0</td>\n",
              "      <td>49.0</td>\n",
              "      <td>82.0</td>\n",
              "      <td>56.0</td>\n",
              "      <td>36.0</td>\n",
              "      <td>89.0</td>\n",
              "      <td>87.0</td>\n",
              "      <td>81.0</td>\n",
              "      <td>94.0</td>\n",
              "      <td>27.0</td>\n",
              "      <td>24.0</td>\n",
              "      <td>33.0</td>\n",
              "      <td>9.0</td>\n",
              "      <td>9.0</td>\n",
              "      <td>15.0</td>\n",
              "      <td>15.0</td>\n",
              "      <td>11.0</td>\n",
              "      <td>€228.1M</td>\n",
              "    </tr>\n",
              "    <tr>\n",
              "      <th>3</th>\n",
              "      <td>3</td>\n",
              "      <td>193080</td>\n",
              "      <td>De Gea</td>\n",
              "      <td>27</td>\n",
              "      <td>https://cdn.sofifa.org/players/4/19/193080.png</td>\n",
              "      <td>Spain</td>\n",
              "      <td>https://cdn.sofifa.org/flags/45.png</td>\n",
              "      <td>91</td>\n",
              "      <td>93</td>\n",
              "      <td>Manchester United</td>\n",
              "      <td>https://cdn.sofifa.org/teams/2/light/11.png</td>\n",
              "      <td>€72M</td>\n",
              "      <td>€260K</td>\n",
              "      <td>1471</td>\n",
              "      <td>Right</td>\n",
              "      <td>4.0</td>\n",
              "      <td>3.0</td>\n",
              "      <td>1.0</td>\n",
              "      <td>Medium/ Medium</td>\n",
              "      <td>Lean</td>\n",
              "      <td>Yes</td>\n",
              "      <td>GK</td>\n",
              "      <td>1.0</td>\n",
              "      <td>Jul 1, 2011</td>\n",
              "      <td>NaN</td>\n",
              "      <td>2020</td>\n",
              "      <td>6'4</td>\n",
              "      <td>168lbs</td>\n",
              "      <td>NaN</td>\n",
              "      <td>NaN</td>\n",
              "      <td>NaN</td>\n",
              "      <td>NaN</td>\n",
              "      <td>NaN</td>\n",
              "      <td>NaN</td>\n",
              "      <td>NaN</td>\n",
              "      <td>NaN</td>\n",
              "      <td>NaN</td>\n",
              "      <td>NaN</td>\n",
              "      <td>NaN</td>\n",
              "      <td>NaN</td>\n",
              "      <td>...</td>\n",
              "      <td>NaN</td>\n",
              "      <td>NaN</td>\n",
              "      <td>NaN</td>\n",
              "      <td>NaN</td>\n",
              "      <td>NaN</td>\n",
              "      <td>17.0</td>\n",
              "      <td>13.0</td>\n",
              "      <td>21.0</td>\n",
              "      <td>50.0</td>\n",
              "      <td>13.0</td>\n",
              "      <td>18.0</td>\n",
              "      <td>21.0</td>\n",
              "      <td>19.0</td>\n",
              "      <td>51.0</td>\n",
              "      <td>42.0</td>\n",
              "      <td>57.0</td>\n",
              "      <td>58.0</td>\n",
              "      <td>60.0</td>\n",
              "      <td>90.0</td>\n",
              "      <td>43.0</td>\n",
              "      <td>31.0</td>\n",
              "      <td>67.0</td>\n",
              "      <td>43.0</td>\n",
              "      <td>64.0</td>\n",
              "      <td>12.0</td>\n",
              "      <td>38.0</td>\n",
              "      <td>30.0</td>\n",
              "      <td>12.0</td>\n",
              "      <td>68.0</td>\n",
              "      <td>40.0</td>\n",
              "      <td>68.0</td>\n",
              "      <td>15.0</td>\n",
              "      <td>21.0</td>\n",
              "      <td>13.0</td>\n",
              "      <td>90.0</td>\n",
              "      <td>85.0</td>\n",
              "      <td>87.0</td>\n",
              "      <td>88.0</td>\n",
              "      <td>94.0</td>\n",
              "      <td>€138.6M</td>\n",
              "    </tr>\n",
              "    <tr>\n",
              "      <th>4</th>\n",
              "      <td>4</td>\n",
              "      <td>192985</td>\n",
              "      <td>K. De Bruyne</td>\n",
              "      <td>27</td>\n",
              "      <td>https://cdn.sofifa.org/players/4/19/192985.png</td>\n",
              "      <td>Belgium</td>\n",
              "      <td>https://cdn.sofifa.org/flags/7.png</td>\n",
              "      <td>91</td>\n",
              "      <td>92</td>\n",
              "      <td>Manchester City</td>\n",
              "      <td>https://cdn.sofifa.org/teams/2/light/10.png</td>\n",
              "      <td>€102M</td>\n",
              "      <td>€355K</td>\n",
              "      <td>2281</td>\n",
              "      <td>Right</td>\n",
              "      <td>4.0</td>\n",
              "      <td>5.0</td>\n",
              "      <td>4.0</td>\n",
              "      <td>High/ High</td>\n",
              "      <td>Normal</td>\n",
              "      <td>Yes</td>\n",
              "      <td>RCM</td>\n",
              "      <td>7.0</td>\n",
              "      <td>Aug 30, 2015</td>\n",
              "      <td>NaN</td>\n",
              "      <td>2023</td>\n",
              "      <td>5'11</td>\n",
              "      <td>154lbs</td>\n",
              "      <td>82+3</td>\n",
              "      <td>82+3</td>\n",
              "      <td>82+3</td>\n",
              "      <td>87+3</td>\n",
              "      <td>87+3</td>\n",
              "      <td>87+3</td>\n",
              "      <td>87+3</td>\n",
              "      <td>87+3</td>\n",
              "      <td>88+3</td>\n",
              "      <td>88+3</td>\n",
              "      <td>88+3</td>\n",
              "      <td>88+3</td>\n",
              "      <td>...</td>\n",
              "      <td>73+3</td>\n",
              "      <td>66+3</td>\n",
              "      <td>66+3</td>\n",
              "      <td>66+3</td>\n",
              "      <td>73+3</td>\n",
              "      <td>93.0</td>\n",
              "      <td>82.0</td>\n",
              "      <td>55.0</td>\n",
              "      <td>92.0</td>\n",
              "      <td>82.0</td>\n",
              "      <td>86.0</td>\n",
              "      <td>85.0</td>\n",
              "      <td>83.0</td>\n",
              "      <td>91.0</td>\n",
              "      <td>91.0</td>\n",
              "      <td>78.0</td>\n",
              "      <td>76.0</td>\n",
              "      <td>79.0</td>\n",
              "      <td>91.0</td>\n",
              "      <td>77.0</td>\n",
              "      <td>91.0</td>\n",
              "      <td>63.0</td>\n",
              "      <td>90.0</td>\n",
              "      <td>75.0</td>\n",
              "      <td>91.0</td>\n",
              "      <td>76.0</td>\n",
              "      <td>61.0</td>\n",
              "      <td>87.0</td>\n",
              "      <td>94.0</td>\n",
              "      <td>79.0</td>\n",
              "      <td>88.0</td>\n",
              "      <td>68.0</td>\n",
              "      <td>58.0</td>\n",
              "      <td>51.0</td>\n",
              "      <td>15.0</td>\n",
              "      <td>13.0</td>\n",
              "      <td>5.0</td>\n",
              "      <td>10.0</td>\n",
              "      <td>13.0</td>\n",
              "      <td>€196.4M</td>\n",
              "    </tr>\n",
              "  </tbody>\n",
              "</table>\n",
              "<p>5 rows × 89 columns</p>\n",
              "</div>"
            ],
            "text/plain": [
              "   Unnamed: 0      ID  ... GKReflexes  Release Clause\n",
              "0           0  158023  ...        8.0         €226.5M\n",
              "1           1   20801  ...       11.0         €127.1M\n",
              "2           2  190871  ...       11.0         €228.1M\n",
              "3           3  193080  ...       94.0         €138.6M\n",
              "4           4  192985  ...       13.0         €196.4M\n",
              "\n",
              "[5 rows x 89 columns]"
            ]
          },
          "metadata": {
            "tags": []
          },
          "execution_count": 144
        }
      ]
    },
    {
      "cell_type": "code",
      "metadata": {
        "colab": {
          "base_uri": "https://localhost:8080/",
          "height": 295
        },
        "id": "UUApfZ5PBXkz",
        "outputId": "28733213-0f2e-46b7-a627-f8251fef579b"
      },
      "source": [
        "# Prepare: store Overall in a python variable\n",
        "overall = fifa_df['Overall']\n",
        "bins = [40, 45, 50, 55, 60, 65, 70, 75, 80, 85, 90, 95, 100]\n",
        "\n",
        "# Render\n",
        "plt.hist(overall, bins = bins)\n",
        "\n",
        "# Tweak & Label \n",
        "plt.title('Distribution of Overall Variable')\n",
        "plt.xlabel('Skill')\n",
        "plt.ylabel('Frequency')\n",
        "\n",
        "# Display\n",
        "plt.show() "
      ],
      "execution_count": null,
      "outputs": [
        {
          "output_type": "display_data",
          "data": {
            "image/png": "[encoded data removed]",
            "text/plain": [
              "<Figure size 432x288 with 1 Axes>"
            ]
          },
          "metadata": {
            "tags": [],
            "needs_background": "light"
          }
        }
      ]
    },
    {
      "cell_type": "markdown",
      "metadata": {
        "id": "CSXB8pt9Cjwo"
      },
      "source": [
        "### <font color=\"green\">Challenges</font>"
      ]
    },
    {
      "cell_type": "markdown",
      "metadata": {
        "id": "GRItZAtVCvpG"
      },
      "source": [
        "#### Challenge 1"
      ]
    },
    {
      "cell_type": "code",
      "metadata": {
        "id": "dWaUpP1kBQcQ"
      },
      "source": [
        "# Question\n",
        "# ---\n",
        "# Plot a histogram to display the distribution of the following weight data.\n",
        "# ---\n",
        "# YOUR CODE GOES BELOW\n",
        "# \n",
        "\n",
        "# Prepare \n",
        "weight = [159.52732188, 138.89929173, 175.0627599,  148.06521608, 166.64214348, 177.6832068,  \n",
        "          164.98825917, 168.94020343, 167.98237614, 189.32961389, 181.10238017, 182.03526327, \n",
        "          166.69656655, 189.38456575, 168.13166797, 173.13293097, 167.29444611, 173.89184014, \n",
        "          185.55063296, 172.87684803, 171.16805852, 176.78635984, 161.69649774, 178.73720879]\n",
        "\n",
        "# Render \n",
        "\n",
        "\n",
        "# Tweak & Label\n",
        "\n",
        "\n",
        "# Display\n",
        "\n"
      ],
      "execution_count": null,
      "outputs": []
    },
    {
      "cell_type": "markdown",
      "metadata": {
        "id": "B0YQgJcFC0G4"
      },
      "source": [
        "#### Challenge 2"
      ]
    },
    {
      "cell_type": "code",
      "metadata": {
        "colab": {
          "base_uri": "https://localhost:8080/",
          "height": 204
        },
        "id": "moLTDqh0C0G5",
        "outputId": "708ec255-69c8-49cc-ed16-871e2664a53c"
      },
      "source": [
        "# Question\n",
        "# ---\n",
        "# Plot a histogram to display the distribution of the population data in the given dataset.\n",
        "# ---\n",
        "# YOUR CODE GOES BELOW\n",
        "# \n",
        "\n",
        "# Prepare \n",
        "pop_df = pd.read_csv('http://bit.ly/CountriesDS')\n",
        "pop_df.head()"
      ],
      "execution_count": null,
      "outputs": [
        {
          "output_type": "execute_result",
          "data": {
            "text/html": [
              "<div>\n",
              "<style scoped>\n",
              "    .dataframe tbody tr th:only-of-type {\n",
              "        vertical-align: middle;\n",
              "    }\n",
              "\n",
              "    .dataframe tbody tr th {\n",
              "        vertical-align: top;\n",
              "    }\n",
              "\n",
              "    .dataframe thead th {\n",
              "        text-align: right;\n",
              "    }\n",
              "</style>\n",
              "<table border=\"1\" class=\"dataframe\">\n",
              "  <thead>\n",
              "    <tr style=\"text-align: right;\">\n",
              "      <th></th>\n",
              "      <th>country</th>\n",
              "      <th>year</th>\n",
              "      <th>LifeExp</th>\n",
              "      <th>income</th>\n",
              "      <th>population</th>\n",
              "      <th>continent</th>\n",
              "    </tr>\n",
              "  </thead>\n",
              "  <tbody>\n",
              "    <tr>\n",
              "      <th>0</th>\n",
              "      <td>Afghanistan</td>\n",
              "      <td>2020</td>\n",
              "      <td>64.4</td>\n",
              "      <td>1800</td>\n",
              "      <td>38900000</td>\n",
              "      <td>Asia</td>\n",
              "    </tr>\n",
              "    <tr>\n",
              "      <th>1</th>\n",
              "      <td>Albania</td>\n",
              "      <td>2020</td>\n",
              "      <td>78.6</td>\n",
              "      <td>13200</td>\n",
              "      <td>2880000</td>\n",
              "      <td>Europe</td>\n",
              "    </tr>\n",
              "    <tr>\n",
              "      <th>2</th>\n",
              "      <td>Algeria</td>\n",
              "      <td>2020</td>\n",
              "      <td>78.3</td>\n",
              "      <td>14000</td>\n",
              "      <td>43900000</td>\n",
              "      <td>Africa</td>\n",
              "    </tr>\n",
              "    <tr>\n",
              "      <th>3</th>\n",
              "      <td>Andorra</td>\n",
              "      <td>2020</td>\n",
              "      <td>NaN</td>\n",
              "      <td>55000</td>\n",
              "      <td>77300</td>\n",
              "      <td>Europe</td>\n",
              "    </tr>\n",
              "    <tr>\n",
              "      <th>4</th>\n",
              "      <td>Angola</td>\n",
              "      <td>2020</td>\n",
              "      <td>65.4</td>\n",
              "      <td>5440</td>\n",
              "      <td>32900000</td>\n",
              "      <td>Africa</td>\n",
              "    </tr>\n",
              "  </tbody>\n",
              "</table>\n",
              "</div>"
            ],
            "text/plain": [
              "       country  year  LifeExp  income  population continent\n",
              "0  Afghanistan  2020     64.4    1800    38900000      Asia\n",
              "1      Albania  2020     78.6   13200     2880000    Europe\n",
              "2      Algeria  2020     78.3   14000    43900000    Africa\n",
              "3      Andorra  2020      NaN   55000       77300    Europe\n",
              "4       Angola  2020     65.4    5440    32900000    Africa"
            ]
          },
          "metadata": {
            "tags": []
          },
          "execution_count": 149
        }
      ]
    },
    {
      "cell_type": "code",
      "metadata": {
        "id": "T7hbdfjiE09U"
      },
      "source": [
        "# Prepare: store data in a python variable\n",
        "population = pop_df['population']\n",
        "\n",
        "# Render \n",
        "\n",
        "\n",
        "# Tweak & Label\n",
        "\n",
        "\n",
        "# Display\n",
        "\n"
      ],
      "execution_count": null,
      "outputs": []
    },
    {
      "cell_type": "markdown",
      "metadata": {
        "id": "CUe-FsYVzxaY"
      },
      "source": [
        "## 5. Line Chart"
      ]
    },
    {
      "cell_type": "markdown",
      "metadata": {
        "id": "hdgz9DL7aihX"
      },
      "source": [
        "**Line graphs** are used in displaying quantitative values over a continuous\n",
        "interval or time period with the intention of understanding the trends,\n",
        "patterns and fluctuations in our data over time."
      ]
    },
    {
      "cell_type": "markdown",
      "metadata": {
        "id": "TXzf08uZF6Cl"
      },
      "source": [
        "#### Example 1"
      ]
    },
    {
      "cell_type": "code",
      "metadata": {
        "colab": {
          "base_uri": "https://localhost:8080/",
          "height": 295
        },
        "id": "BHCQzHfRzxao",
        "outputId": "d086dd47-fbd3-44c9-cf56-283df8b1a244"
      },
      "source": [
        "# Question\n",
        "# ---\n",
        "# Create a line graph to describe the trend of car sales during the year 2020\n",
        "# ---\n",
        "# \n",
        "\n",
        "# Prepare \n",
        "months = [1, 2, 3, 4, 5, 6, 7, 8, 9, 10, 11, 12]\n",
        "sales = [25496, 62000, 45752, 43200, 45200, 44000, 42316, 64928, 67317, 68748, 68702, 73752]\n",
        "\n",
        "# Render\n",
        "plt.plot(months, sales)\n",
        "\n",
        "# Tweak & Label\n",
        "plt.title('Line Graph of Sales for 2020')\n",
        "plt.xlabel('Months')\n",
        "plt.ylabel('Sales')\n",
        "\n",
        "# Display\n",
        "plt.show()"
      ],
      "execution_count": null,
      "outputs": [
        {
          "output_type": "display_data",
          "data": {
            "image/png": "[encoded data removed]",
            "text/plain": [
              "<Figure size 432x288 with 1 Axes>"
            ]
          },
          "metadata": {
            "tags": [],
            "needs_background": "light"
          }
        }
      ]
    },
    {
      "cell_type": "markdown",
      "metadata": {
        "id": "mCqoGWgKIXsx"
      },
      "source": [
        "#### Example 2"
      ]
    },
    {
      "cell_type": "code",
      "metadata": {
        "colab": {
          "base_uri": "https://localhost:8080/",
          "height": 204
        },
        "id": "AoB3phfCIWLj",
        "outputId": "d9756af9-7657-46ad-dc56-b33895ad327d"
      },
      "source": [
        "# Question 2\n",
        "# ---\n",
        "# Create a line graph to describe the trend of gas price/gallon in the UK, USA and France since 1990.\n",
        "# ---\n",
        "# Dataset URL (CSV) = http://bit.ly/GasDatasetII\n",
        "\n",
        "# Prepare \n",
        "gas_df = pd.read_csv('http://bit.ly/GasDatasetII')\n",
        "gas_df.head()"
      ],
      "execution_count": null,
      "outputs": [
        {
          "output_type": "execute_result",
          "data": {
            "text/html": [
              "<div>\n",
              "<style scoped>\n",
              "    .dataframe tbody tr th:only-of-type {\n",
              "        vertical-align: middle;\n",
              "    }\n",
              "\n",
              "    .dataframe tbody tr th {\n",
              "        vertical-align: top;\n",
              "    }\n",
              "\n",
              "    .dataframe thead th {\n",
              "        text-align: right;\n",
              "    }\n",
              "</style>\n",
              "<table border=\"1\" class=\"dataframe\">\n",
              "  <thead>\n",
              "    <tr style=\"text-align: right;\">\n",
              "      <th></th>\n",
              "      <th>Year</th>\n",
              "      <th>Australia</th>\n",
              "      <th>Canada</th>\n",
              "      <th>France</th>\n",
              "      <th>Germany</th>\n",
              "      <th>Italy</th>\n",
              "      <th>Japan</th>\n",
              "      <th>Mexico</th>\n",
              "      <th>South Korea</th>\n",
              "      <th>UK</th>\n",
              "      <th>USA</th>\n",
              "    </tr>\n",
              "  </thead>\n",
              "  <tbody>\n",
              "    <tr>\n",
              "      <th>0</th>\n",
              "      <td>1990</td>\n",
              "      <td>NaN</td>\n",
              "      <td>1.87</td>\n",
              "      <td>3.63</td>\n",
              "      <td>2.65</td>\n",
              "      <td>4.59</td>\n",
              "      <td>3.16</td>\n",
              "      <td>1.00</td>\n",
              "      <td>2.05</td>\n",
              "      <td>2.82</td>\n",
              "      <td>1.16</td>\n",
              "    </tr>\n",
              "    <tr>\n",
              "      <th>1</th>\n",
              "      <td>1991</td>\n",
              "      <td>1.96</td>\n",
              "      <td>1.92</td>\n",
              "      <td>3.45</td>\n",
              "      <td>2.90</td>\n",
              "      <td>4.50</td>\n",
              "      <td>3.46</td>\n",
              "      <td>1.30</td>\n",
              "      <td>2.49</td>\n",
              "      <td>3.01</td>\n",
              "      <td>1.14</td>\n",
              "    </tr>\n",
              "    <tr>\n",
              "      <th>2</th>\n",
              "      <td>1992</td>\n",
              "      <td>1.89</td>\n",
              "      <td>1.73</td>\n",
              "      <td>3.56</td>\n",
              "      <td>3.27</td>\n",
              "      <td>4.53</td>\n",
              "      <td>3.58</td>\n",
              "      <td>1.50</td>\n",
              "      <td>2.65</td>\n",
              "      <td>3.06</td>\n",
              "      <td>1.13</td>\n",
              "    </tr>\n",
              "    <tr>\n",
              "      <th>3</th>\n",
              "      <td>1993</td>\n",
              "      <td>1.73</td>\n",
              "      <td>1.57</td>\n",
              "      <td>3.41</td>\n",
              "      <td>3.07</td>\n",
              "      <td>3.68</td>\n",
              "      <td>4.16</td>\n",
              "      <td>1.56</td>\n",
              "      <td>2.88</td>\n",
              "      <td>2.84</td>\n",
              "      <td>1.11</td>\n",
              "    </tr>\n",
              "    <tr>\n",
              "      <th>4</th>\n",
              "      <td>1994</td>\n",
              "      <td>1.84</td>\n",
              "      <td>1.45</td>\n",
              "      <td>3.59</td>\n",
              "      <td>3.52</td>\n",
              "      <td>3.70</td>\n",
              "      <td>4.36</td>\n",
              "      <td>1.48</td>\n",
              "      <td>2.87</td>\n",
              "      <td>2.99</td>\n",
              "      <td>1.11</td>\n",
              "    </tr>\n",
              "  </tbody>\n",
              "</table>\n",
              "</div>"
            ],
            "text/plain": [
              "   Year  Australia  Canada  France  ...  Mexico  South Korea    UK   USA\n",
              "0  1990        NaN    1.87    3.63  ...    1.00         2.05  2.82  1.16\n",
              "1  1991       1.96    1.92    3.45  ...    1.30         2.49  3.01  1.14\n",
              "2  1992       1.89    1.73    3.56  ...    1.50         2.65  3.06  1.13\n",
              "3  1993       1.73    1.57    3.41  ...    1.56         2.88  2.84  1.11\n",
              "4  1994       1.84    1.45    3.59  ...    1.48         2.87  2.99  1.11\n",
              "\n",
              "[5 rows x 11 columns]"
            ]
          },
          "metadata": {
            "tags": []
          },
          "execution_count": 166
        }
      ]
    },
    {
      "cell_type": "code",
      "metadata": {
        "colab": {
          "base_uri": "https://localhost:8080/",
          "height": 352
        },
        "id": "QUI28nlPJUNG",
        "outputId": "3970c72c-0ab9-4921-c08f-4c5b7cf7f7f0"
      },
      "source": [
        "# Prepare\n",
        "years = gas_df['Year'].tolist() # tolist() returns a list of values\n",
        "uk_prices = gas_df['UK']\n",
        "us_prices = gas_df['USA']\n",
        "france_prices = gas_df['France']\n",
        "\n",
        "# Render\n",
        "plt.figure(figsize=(14, 5))\n",
        "plt.plot(years, uk_prices, marker=\"o\", label=\"UK\")\n",
        "plt.plot(years, us_prices, marker=\"o\", label=\"USA\")\n",
        "plt.plot(years, france_prices, marker=\"x\",label=\"France\")\n",
        "\n",
        "# Tweak & Label\n",
        "plt.title('Line Graph of UK Gas Prices/Gallon since 1990', fontdict={'fontweight':'bold', 'fontsize': 15})\n",
        "plt.xticks(years)\n",
        "plt.xlabel('Years')\n",
        "plt.ylabel('Gas price ($)')\n",
        "plt.legend()\n",
        "\n",
        "# Display\n",
        "plt.show()"
      ],
      "execution_count": null,
      "outputs": [
        {
          "output_type": "display_data",
          "data": {
            "image/png": "[encoded data removed]",
            "text/plain": [
              "<Figure size 1008x360 with 1 Axes>"
            ]
          },
          "metadata": {
            "tags": [],
            "needs_background": "light"
          }
        }
      ]
    },
    {
      "cell_type": "markdown",
      "metadata": {
        "id": "oTcTYR-CMr0p"
      },
      "source": [
        "### <font color=\"green\">Challenges</font>"
      ]
    },
    {
      "cell_type": "markdown",
      "metadata": {
        "id": "h6Mf9l3WMxE_"
      },
      "source": [
        "#### Challenge 1"
      ]
    },
    {
      "cell_type": "code",
      "metadata": {
        "id": "o4RZ2qemMhde"
      },
      "source": [
        "# Question \n",
        "# ---\n",
        "# Plot a line graph to show the trend of the monthly revenue for an online entreprenuer.\n",
        "# ---\n",
        "# YOUR CODE GOES BELOW\n",
        "# \n",
        "\n",
        "# Prepare\n",
        "months  = [1, 2, 3, 4, 5, 6, 7, 8, 9, 10, 11, 12]\n",
        "revenue = [45372, 48876, 53850, 57287, 63016, 65998, 70003, 70000, 71496, 75370, 83640]\n",
        "\n",
        "# Render\n",
        "\n",
        "\n",
        "# Tweak & Label \n",
        "\n",
        "\n",
        "# Display\n",
        "\n"
      ],
      "execution_count": null,
      "outputs": []
    },
    {
      "cell_type": "markdown",
      "metadata": {
        "id": "N5JGzbUXMy7K"
      },
      "source": [
        "#### Challenge 2"
      ]
    },
    {
      "cell_type": "code",
      "metadata": {
        "id": "V63IMzG5M0vA"
      },
      "source": [
        "# Question\n",
        "# ---\n",
        "# Use the gas prices dataset in example 2 to create a line graph that \n",
        "# describes gas prices for Canada, France and Germany since 1990.\n",
        "# ---\n",
        "# YOUR CODE GOES BELOW\n",
        "# \n",
        "\n",
        "# Prepare\n",
        "\n",
        "\n",
        "# Render\n",
        "\n",
        "\n",
        "# Tweak & Label \n",
        "\n",
        "\n",
        "# Display\n"
      ],
      "execution_count": null,
      "outputs": []
    },
    {
      "cell_type": "markdown",
      "metadata": {
        "id": "pRYUE3vpy_Wf"
      },
      "source": [
        "## 6. Scatter Plot"
      ]
    },
    {
      "cell_type": "markdown",
      "metadata": {
        "id": "Li1eV6Tbap2u"
      },
      "source": [
        "**Scatterplots** are a type of\n",
        "visualisation that can be\n",
        "used to detect if a\n",
        "relationship or correlation\n",
        "between two variables\n",
        "exists."
      ]
    },
    {
      "cell_type": "markdown",
      "metadata": {
        "id": "QCw51It7RY0Y"
      },
      "source": [
        "### Examples"
      ]
    },
    {
      "cell_type": "markdown",
      "metadata": {
        "id": "RRnqeYPRRcCy"
      },
      "source": [
        "#### Example 1"
      ]
    },
    {
      "cell_type": "code",
      "metadata": {
        "colab": {
          "base_uri": "https://localhost:8080/",
          "height": 295
        },
        "id": "DNktx_MCy_Wg",
        "outputId": "d4995f67-5ac8-4c02-c6c2-c47e753d1900"
      },
      "source": [
        "# Question\n",
        "# ---\n",
        "# Create a scatter plot to describe the relationship between the two variables.\n",
        "# ---\n",
        "# \n",
        "\n",
        "# Prepare \n",
        "x = [10, 22, 30, 45, 50, 64, 70, 74, 90, 120]\n",
        "y = [67, 78, 86, 96, 107, 115, 126, 135, 146, 157]\n",
        "\n",
        "# Render \n",
        "plt.scatter(x, y)\n",
        "\n",
        "# Tweak & Label \n",
        "plt.title('Scatterplot of X and Y')\n",
        "plt.xlabel('X variable')\n",
        "plt.ylabel('Y variable')\n",
        "\n",
        "# Display\n",
        "plt.show()"
      ],
      "execution_count": null,
      "outputs": [
        {
          "output_type": "display_data",
          "data": {
            "image/png": "[encoded data removed]",
            "text/plain": [
              "<Figure size 432x288 with 1 Axes>"
            ]
          },
          "metadata": {
            "tags": [],
            "needs_background": "light"
          }
        }
      ]
    },
    {
      "cell_type": "markdown",
      "metadata": {
        "id": "L9-V3ikKRe3z"
      },
      "source": [
        "#### Example 2"
      ]
    },
    {
      "cell_type": "code",
      "metadata": {
        "colab": {
          "base_uri": "https://localhost:8080/",
          "height": 204
        },
        "id": "Ugs4iSntRhCS",
        "outputId": "efdbceaf-71e3-4c8e-d763-f5d3b97d3a1d"
      },
      "source": [
        "# Question\n",
        "# ---\n",
        "# Create a scatterplot to determine whether population and income variables \n",
        "# are highly correlated.\n",
        "# ---\n",
        "# Dataset URL = http://bit.ly/CountriesDS'\n",
        "# ---\n",
        "# \n",
        "\n",
        "# Prepare \n",
        "countries_df = pd.read_csv('http://bit.ly/CountriesDS')\n",
        "countries_df.head()"
      ],
      "execution_count": null,
      "outputs": [
        {
          "output_type": "execute_result",
          "data": {
            "text/html": [
              "<div>\n",
              "<style scoped>\n",
              "    .dataframe tbody tr th:only-of-type {\n",
              "        vertical-align: middle;\n",
              "    }\n",
              "\n",
              "    .dataframe tbody tr th {\n",
              "        vertical-align: top;\n",
              "    }\n",
              "\n",
              "    .dataframe thead th {\n",
              "        text-align: right;\n",
              "    }\n",
              "</style>\n",
              "<table border=\"1\" class=\"dataframe\">\n",
              "  <thead>\n",
              "    <tr style=\"text-align: right;\">\n",
              "      <th></th>\n",
              "      <th>country</th>\n",
              "      <th>year</th>\n",
              "      <th>LifeExp</th>\n",
              "      <th>income</th>\n",
              "      <th>population</th>\n",
              "      <th>continent</th>\n",
              "    </tr>\n",
              "  </thead>\n",
              "  <tbody>\n",
              "    <tr>\n",
              "      <th>0</th>\n",
              "      <td>Afghanistan</td>\n",
              "      <td>2020</td>\n",
              "      <td>64.4</td>\n",
              "      <td>1800</td>\n",
              "      <td>38900000</td>\n",
              "      <td>Asia</td>\n",
              "    </tr>\n",
              "    <tr>\n",
              "      <th>1</th>\n",
              "      <td>Albania</td>\n",
              "      <td>2020</td>\n",
              "      <td>78.6</td>\n",
              "      <td>13200</td>\n",
              "      <td>2880000</td>\n",
              "      <td>Europe</td>\n",
              "    </tr>\n",
              "    <tr>\n",
              "      <th>2</th>\n",
              "      <td>Algeria</td>\n",
              "      <td>2020</td>\n",
              "      <td>78.3</td>\n",
              "      <td>14000</td>\n",
              "      <td>43900000</td>\n",
              "      <td>Africa</td>\n",
              "    </tr>\n",
              "    <tr>\n",
              "      <th>3</th>\n",
              "      <td>Andorra</td>\n",
              "      <td>2020</td>\n",
              "      <td>NaN</td>\n",
              "      <td>55000</td>\n",
              "      <td>77300</td>\n",
              "      <td>Europe</td>\n",
              "    </tr>\n",
              "    <tr>\n",
              "      <th>4</th>\n",
              "      <td>Angola</td>\n",
              "      <td>2020</td>\n",
              "      <td>65.4</td>\n",
              "      <td>5440</td>\n",
              "      <td>32900000</td>\n",
              "      <td>Africa</td>\n",
              "    </tr>\n",
              "  </tbody>\n",
              "</table>\n",
              "</div>"
            ],
            "text/plain": [
              "       country  year  LifeExp  income  population continent\n",
              "0  Afghanistan  2020     64.4    1800    38900000      Asia\n",
              "1      Albania  2020     78.6   13200     2880000    Europe\n",
              "2      Algeria  2020     78.3   14000    43900000    Africa\n",
              "3      Andorra  2020      NaN   55000       77300    Europe\n",
              "4       Angola  2020     65.4    5440    32900000    Africa"
            ]
          },
          "metadata": {
            "tags": []
          },
          "execution_count": 201
        }
      ]
    },
    {
      "cell_type": "code",
      "metadata": {
        "colab": {
          "base_uri": "https://localhost:8080/",
          "height": 295
        },
        "id": "VPCYVAvrULTE",
        "outputId": "2b8fc4fd-d4da-4596-b301-e04b28c738d4"
      },
      "source": [
        "# Prepare: store population and income in python variables\n",
        "population = countries_df['population']\n",
        "income = countries_df['income']\n",
        "\n",
        "# Render\n",
        "plt.scatter(population, income)\n",
        "\n",
        "# Tweak and Label\n",
        "plt.title('Scatterplot of population and income')\n",
        "plt.xlabel('Population')\n",
        "plt.ylabel('Income')\n",
        "\n",
        "# Display\n",
        "plt.show()"
      ],
      "execution_count": null,
      "outputs": [
        {
          "output_type": "display_data",
          "data": {
            "image/png": "[encoded data removed]",
            "text/plain": [
              "<Figure size 432x288 with 1 Axes>"
            ]
          },
          "metadata": {
            "tags": [],
            "needs_background": "light"
          }
        }
      ]
    },
    {
      "cell_type": "markdown",
      "metadata": {
        "id": "cg2JGVX7VDRY"
      },
      "source": [
        "### <font color=\"green\">Challenges</font>"
      ]
    },
    {
      "cell_type": "markdown",
      "metadata": {
        "id": "d4uFlFgDVJAn"
      },
      "source": [
        "#### Challenge 1"
      ]
    },
    {
      "cell_type": "code",
      "metadata": {
        "id": "kHza6yzAVBUs"
      },
      "source": [
        "# Question \n",
        "# ---\n",
        "# Create a scatterplot to determine whethere there is a relationship between the given two variables.\n",
        "# ---\n",
        "#\n",
        "\n",
        "# Prepare\n",
        "x = [2, 6, 1, 8, 4, 5, 9, 1, 2, 3, 7, 5, 8, 1, 3]\n",
        "y = [5, 9, 3, 6, 7, 2, 4, 6, 7, 1, 9, 4, 3, 6, 9]"
      ],
      "execution_count": null,
      "outputs": []
    },
    {
      "cell_type": "markdown",
      "metadata": {
        "id": "s_JyLoQ9VK_U"
      },
      "source": [
        "#### Challenge 2"
      ]
    },
    {
      "cell_type": "code",
      "metadata": {
        "id": "Y8b8gR42VM1G"
      },
      "source": [
        "# Question \n",
        "# ---\n",
        "# Determine whether there is a relationship between the Age and Annual_Premium variables from the given insurance dataset.\n",
        "# ---\n",
        "# Dataset URL (CSV) = http://bit.ly/InsuranceDSII\n",
        "# ---\n",
        "# \n",
        "\n",
        "# Prepare\n",
        "insurance_df = pd.read_csv('http://bit.ly/InsuranceDSII')\n",
        "insurance_df.head()\n",
        "\n",
        "# Render \n",
        "age = insurance_df['Age']\n",
        "\n",
        "\n",
        "# Tweak & Label \n",
        "\n",
        "\n",
        "# Display\n",
        "\n"
      ],
      "execution_count": null,
      "outputs": []
    },
    {
      "cell_type": "markdown",
      "metadata": {
        "id": "WlIIcpfGy_f7"
      },
      "source": [
        "## 7. Box Plot"
      ]
    },
    {
      "cell_type": "code",
      "metadata": {
        "id": "cZel9cLQy_f8"
      },
      "source": [
        ""
      ],
      "execution_count": null,
      "outputs": []
    }
  ]
}